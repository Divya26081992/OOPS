{
  "nbformat": 4,
  "nbformat_minor": 0,
  "metadata": {
    "colab": {
      "provenance": []
    },
    "kernelspec": {
      "name": "python3",
      "display_name": "Python 3"
    },
    "language_info": {
      "name": "python"
    }
  },
  "cells": [
    {
      "cell_type": "code",
      "execution_count": null,
      "metadata": {
        "id": "NyuBTqtRAWPJ"
      },
      "outputs": [],
      "source": []
    },
    {
      "cell_type": "markdown",
      "source": [
        "**OOPS QUESTIONS**"
      ],
      "metadata": {
        "id": "1WKN1F14G6DB"
      }
    },
    {
      "cell_type": "markdown",
      "source": [
        "1.\tWhat is object oriented programming ?\n",
        "\n",
        "  Object-Oriented Programming (OOP) is a programming paradigm that uses \"objects\" and \"classes\" to structure and organize code, promoting reusability, flexibility, and maintainability. It revolves around the concept of modeling real-world entities as objects, each containing data (attributes) and methods (functions) that operate on that data. OOP principles like encapsulation, inheritance, and polymorphism contribute to creating modular, robust, and easier-to-understand software.\n"
      ],
      "metadata": {
        "id": "PR8HlrBpAfCf"
      }
    },
    {
      "cell_type": "markdown",
      "source": [
        "2.\tWhat is a class in OOP?\n",
        "\n",
        "    In Object-Oriented Programming (OOP), a class serves as a blueprint or template for creating objects. It defines the structure and behavior that its objects will possess.\n",
        "    Here's a breakdown of what a class entails:\n",
        "\n",
        "    •\tUser-Defined Data Type: A class is a custom data type that groups together related data (attributes or member variables) and functions (methods or member functions) that operate on that data.\n",
        "\n",
        "    •\tAttributes (Data Members): These represent the characteristics or properties of the objects created from the class. For instance, a Car class might have attributes like color, make, and model.\n",
        "    \n",
        "    •\tMethods (Member Functions): These define the actions or behaviors that objects of the class can perform. Continuing the Car example, methods could include accelerate(), brake(), or startEngine().\n"
      ],
      "metadata": {
        "id": "O8isHnMRAu6q"
      }
    },
    {
      "cell_type": "markdown",
      "source": [
        "3.\tWhat is an object in OOP?\n",
        "\n",
        "    In Object-Oriented Programming (OOP), an object is an instance of a class. It represents a real-world entity or a conceptual entity within a program, encapsulating both data (attributes or properties) and the functions or procedures (methods or behaviors) that operate on that data.\n",
        "    Key characteristics of an object in OOP include:\n",
        "\n",
        "    •\tInstance of a Class: Objects are concrete instantiations of a class, which serves as a blueprint or template defining the structure and behavior of objects of that type.\n",
        "\n",
        "    •\tEncapsulation: An object bundles its data and the methods that manipulate that data into a single unit, promoting data hiding and controlled access.\n",
        "\n",
        "    •\tState and Behavior: Objects possess a state, represented by the values of their attributes, and exhibit behavior through their methods.\n",
        "\n",
        "    •\tMemory Allocation: When an object is created, memory is allocated to store its data and methods.\n",
        "    \n",
        "    •\tInteraction: Objects can interact with other objects by sending messages (invoking methods), facilitating communication and collaboration within the program\n"
      ],
      "metadata": {
        "id": "SJSkw_oeA-ZX"
      }
    },
    {
      "cell_type": "markdown",
      "source": [
        "4.\tWhat is the difference between abstraction and encapsulation?\n",
        "\n",
        "    Abstraction focuses on what an object does, while encapsulation focuses on how an object does it and protects its internal state. Abstraction simplifies complexity by hiding unnecessary details, presenting only the essential features to the user. Encapsulation bundles data and methods that operate on that data into a single unit (like a class), restricting direct access to internal data and providing controlled access through methods.\n",
        "\n",
        "    Abstraction:\n",
        "\n",
        "  •\tPurpose: Hides the complex implementation details and shows only the necessary information to the user.\n",
        "\n",
        "  •\tFocus: Defining the \"what\" of an object, not the \"how.\"\n",
        "    \n",
        "    Example: A car's steering wheel, pedals, and gear stick are abstractions. They allow you to control the car without needing to understand the complex engine mechanics.\n",
        "\n",
        "  •\tAchieved through: Abstract classes, interfaces, or hiding irrelevant details.\n",
        "\n",
        "    Encapsulation:\n",
        "\n",
        "  •\tPurpose: Bundles data and methods that operate on that data into a single unit (a class), protecting the internal state of the object.\n",
        "\n",
        "  •\tFocus: Controlling access to data and methods to maintain data integrity and prevent unintended modifications.\n",
        "\n",
        "  Example :  A car's engine is encapsulated. You don't directly access and manipulate the engine's internal parts; instead, you interact with it through the accelerator pedal and other controls.\n",
        "\n",
        "  •\tAchieved through: Access modifiers (like private, protected, public) and getter/setter methods.\n",
        "\n",
        "   Relationship between Abstraction and Encapsulation:\n",
        "\n",
        "  •\tEncapsulation is often used as a tool to implement abstraction. By hiding the implementation details through encapsulation, you can create a simpler, more abstract interface for users.\n",
        "\n",
        "  •\tAbstraction can be seen as a higher-level concept, while encapsulation is a more specific implementation technique\n"
      ],
      "metadata": {
        "id": "7k90K5A9BMu6"
      }
    },
    {
      "cell_type": "markdown",
      "source": [
        "5.\tWhat are dunder methods in Python?\n",
        "\n",
        "    Dunder methods, also known as magic methods or special methods, are distinct methods in Python that are identified by their double leading and double trailing underscores (e.g., __init__, __str__, __add__). The term \"dunder\" is a contraction of \"double underscore.\"\n",
        "    These methods are integral to Python's object model and allow custom classes to interact with built-in operations and functions in a predictable and consistent manner. They enable functionalities like:\n",
        "   \n",
        "   •\tInitialization and Construction:\n",
        "__init__ is used for object initialization when an instance of a class is created.\n",
        "\n",
        "   •\tRepresentation:\n",
        "__str__ and __repr__ define how an object is represented as a string, for user-friendly output and developer-focused debugging respectively.\n",
        "\n",
        "   •\tOperator Overloading:\n",
        "Dunder methods like __add__, __sub__, __mul__, __eq__, __lt__ allow you to define how standard operators behave when applied to instances of your custom classes.\n",
        "\n",
        "   •\tContainer Emulation:\n",
        "Methods like __len__, __getitem__, __setitem__, and __contains__ enable your objects to behave like built-in container types (e.g., lists, dictionaries).\n",
        "\n",
        "   •\tContext Management:\n",
        "__enter__ and __exit__ are used to define context managers, allowing objects to be used with the with statement for resource management.\n",
        "By implementing these dunder methods within your classes, you can customize the behavior of your objects and seamlessly integrate them into Python's ecosystem, making them behave like native types.\n"
      ],
      "metadata": {
        "id": "nV1Jkm0kB89H"
      }
    },
    {
      "cell_type": "markdown",
      "source": [
        "6.\tExplain the concept of inheritance in OOP.\n",
        "\n",
        "    In object-oriented programming (OOP), inheritance is a mechanism that allows a class to inherit properties and behaviors from another class. It is a fundamental concept in OOP that promotes code reuse and establishes relationships between classes.\n",
        "\n",
        "    Inheritance in oops is based on a hierarchical relationship between classes, where a derived class (also known as a subclass or child class) inherits the characteristics of a base class (also known as a superclass or parent class). The derived class extends the functionality of the base class by adding new features or overriding existing ones.\n",
        "\n",
        "    The key idea behind inheritance is that the derived class inherits all the attributes (data members) and behaviors (methods) of the base class, and it can also introduce its own specific attributes and behaviors. This allows for creating a hierarchy of classes with increasing specialization.\n",
        "\n",
        "    Object Oriented Programming, a programming paradigm, is all about classes (a blueprint or template from where objects are created) and real-world objects (instances of a class). Inheritance is a way of representing real-world relationships between the two. Here’s an example – car, bus, bike – all of these come under a broader category called Vehicle. That means they’ve inherited the properties of class vehicles, i.e., all are used for transportation. We can represent this relationship in code with the help of inheritance.\n",
        "    \n",
        "    The key to understanding Inheritance oops is that it provides code re-usability. Instead of writing the same code repeatedly, we can simply inherit the properties of an existing class into the other. This, as you can imagine, saves a ton of time. And time is money in data science and machine learning!\n",
        "\n",
        "    Inheritance is the procedure in which one class inherits the attributes and methods of another class. The class whose properties and methods are inherited is known as the parent class or superclass. And the class that inherits the properties from the parent class is the child class or derived class.\n",
        "\n",
        "    The interesting thing is, along with the inherited properties and methods, a child class can have its own properties and methods.\n"
      ],
      "metadata": {
        "id": "Pl5DfSWJCPwf"
      }
    },
    {
      "cell_type": "markdown",
      "source": [
        "7.\tWhat is polymorphism in OOP?\n",
        "\n",
        "    Polymorphism in object-oriented programming (OOP) is the ability of an object to take on many forms. It allows objects of different classes to be treated as objects of a common type, enabling a single interface to be used for different underlying implementations. This concept is fundamental to OOP and allows for greater flexibility, code reusability, and maintainability.\n",
        "\n",
        "    Key aspects of polymorphism:\n",
        "\n",
        "    •\tOne interface, many forms: Polymorphism allows you to interact with objects through a common interface, regardless of their specific class.\n",
        "\n",
        "    •\t Flexibility and adaptability: It enables you to write code that can handle different object types without needing to know their exact class at compile time.\n",
        "\n",
        "    •\t  Code reuse: Polymorphism promotes code reuse by allowing you to write functions or methods that can work with a variety of objects.\n",
        "    \n",
        "    •\t  Maintainability: When you need to add new functionality, you can often do so by adding new classes that implement the common interface, without modifying existing code.\n",
        "\n",
        "    Types of Polymorphism in OOP:\n",
        "\n",
        "    •\tCompile-time Polymorphism (Static Polymorphism): This occurs when the method to be called is determined at compile time. Function overloading and operator overloading are examples of compile-time polymorphism.\n",
        "\n",
        "    •\t Runtime Polymorphism (Dynamic Polymorphism): This occurs when the method to be called is determined at runtime. Method overriding (when a subclass provides a specific implementation of a method already defined in its superclass) is an example of runtime polymorphism\n"
      ],
      "metadata": {
        "id": "FbyXqri7CeoJ"
      }
    },
    {
      "cell_type": "markdown",
      "source": [],
      "metadata": {
        "id": "fFpsYr34CzGr"
      }
    },
    {
      "cell_type": "markdown",
      "source": [
        "8.\tHow is encapsulation achieved in Python.\n",
        "\n",
        "    Encapsulation in Python is achieved through conventions and name mangling, rather than strict access modifiers like public, private, or protected found in some other languages.\n",
        "\n",
        "    Public Members (Default).\n",
        "    By default, all attributes and methods in a Python class are public. They are directly accessible from outside the class using the dot operator.\n",
        "\n",
        "    class MyClass:\n",
        "        def __init__(self):\n",
        "            self.public_attribute = \"I am public\"\n",
        "\n",
        "        def public_method(self):\n",
        "            print(\"This is a public method.\")\n",
        "\n",
        "    obj = MyClass()\n",
        "    print(obj.public_attribute)\n",
        "    obj.public_method()\n",
        "\n",
        "Protected Members (Convention).\n",
        "A single leading underscore (_) is used by convention to indicate that an attribute or method is intended for internal use within the class or its subclasses. It's a hint to other developers not to access or modify it directly from outside the class, but it does not technically prevent access.\n",
        "\n",
        "    class MyClass:\n",
        "        def __init__(self):\n",
        "            self._protected_attribute = \"I am protected (by convention)\"\n",
        "\n",
        "        def _protected_method(self):\n",
        "            print(\"This is a protected method (by convention).\")\n",
        "\n",
        "    obj = MyClass()\n",
        "    print(obj._protected_attribute) # Still accessible, but discouraged\n",
        "    obj._protected_method()      # Still callable, but discouraged\n",
        "\n",
        "Private Members (Name Mangling).\n",
        "A double leading underscore (__) triggers name mangling, making the attribute or method less directly accessible from outside the class. Python renames these attributes internally to _ClassName__attributeName. While not truly private (as they can still be accessed if the mangled name is known), it provides a stronger form of encapsulation than the single underscore convention.\n",
        "\n",
        "    class MyClass:\n",
        "        def __init__(self):\n",
        "            self.__private_attribute = \"I am private (name mangled)\"\n",
        "\n",
        "        def __private_method(self):\n",
        "            print(\"This is a private method (name mangled).\")\n",
        "\n",
        "        def get_private_attribute(self):\n",
        "            return self.__private_attribute\n",
        "\n",
        "    obj = MyClass()\n",
        "    # print(obj.__private_attribute) # This will raise an AttributeError\n",
        "    print(obj.get_private_attribute())\n",
        "    # obj.__private_method() # This will raise an AttributeError\n"
      ],
      "metadata": {
        "id": "bvzSKok4C2fi"
      }
    },
    {
      "cell_type": "markdown",
      "source": [
        "9.\tWhat is constructor in Python?\n",
        "\n",
        "    In Python, a constructor is a special method used to initialize new objects of a class. When an object is created, the constructor is automatically invoked, allowing for the initial setup of the object's attributes and state.\n",
        "\n",
        "    Key characteristics of Python constructors:\n",
        "\n",
        "    •\t__init__ method:\n",
        "In Python, the constructor is defined using the special method __init__(). This method is automatically called whenever a new instance of the class is created.\n",
        "\n",
        "    •\tPurpose:\n",
        "The primary purpose of the constructor is to assign initial values to the instance variables (attributes) of the object. It ensures that the object is in a valid and usable state immediately after creation.\n",
        "\n",
        "    •\tself parameter:\n",
        "The __init__ method always takes self as its first parameter. self refers to the instance of the class being created and allows you to access and modify the object's attributes.\n",
        "\n",
        "    •\tParameters:\n",
        "Constructors can accept additional parameters beyond self to receive initial values for the object's attributes.\n",
        "Example:\n",
        "\n",
        "class Dog:\n",
        "    def __init__(self, name, breed):\n",
        "        self.name = name  # Initialize the 'name' attribute\n",
        "        self.breed = breed  # Initialize the 'breed' attribute\n",
        "        print(f\"{self.name} the {self.breed} has been created!\")\n",
        "\n",
        "# Creating a new Dog object, which automatically calls the __init__ constructor\n",
        "my_dog = Dog(\"Buddy\", \"Golden Retriever\")\n",
        "\n",
        "print(my_dog.name)\n",
        "print(my_dog.breed)\n",
        "In this example, __init__(self, name, breed) is the constructor. When my_dog = Dog(\"Buddy\", \"Golden Retriever\") is executed, the __init__ method is called, and \"Buddy\" is assigned to self.name and \"Golden Retriever\" to self.breed, initializing the my_dog object.\n"
      ],
      "metadata": {
        "id": "hTkiqqs7C-Zc"
      }
    },
    {
      "cell_type": "markdown",
      "source": [
        "10.\tWhat are class and static methods in Python ?\n",
        "\n",
        "    In Python, both class methods and static methods are defined within a class but differ in their binding and access to class or instance data.\n",
        "\n",
        "    Class Methods:\n",
        "\n",
        "    •\tDefinition:\n",
        "A class method is a method that is bound to the class and not the instance of the class. It is defined using the @classmethod decorator.\n",
        "\n",
        "    •\tFirst Argument:\n",
        "It automatically receives the class itself as its first argument, conventionally named cls.\n",
        "\n",
        "    •\t Purpose:\n",
        "Class methods are primarily used when the method needs to access or modify class-level attributes or perform operations that pertain to the class as a whole, rather than a specific instance. They are often used for alternative constructors or factory methods.\n",
        "\n",
        "    Static Methods:\n",
        "\n",
        "    •\tDefinition:\n",
        "A static method is a method that belongs to the class but does not operate on the class or its instances. It is defined using the @staticmethod decorator.\n",
        "\n",
        "    •\tFirst Argument:\n",
        "Unlike instance or class methods, static methods do not receive self (instance) or cls (class) as their first argument.\n",
        "\n",
        "    •\tPurpose:\n",
        "Static methods are essentially regular functions that are logically grouped within a class because they relate to the class's functionality, but they do not require access to the class's state or any instance's state. They are useful for utility functions that perform independent operations.\n"
      ],
      "metadata": {
        "id": "SCqA4I0vDNvx"
      }
    },
    {
      "cell_type": "markdown",
      "source": [
        "11.\tWhat is method overloading in Python ?\n",
        "\n",
        "    Method overloading in Python refers to the concept where a single method name can be used to perform different operations based on the number or type of arguments passed to it. Unlike some other object-oriented languages (like Java or C++), Python does not support true method overloading in the sense of defining multiple methods with the same name but different argument signatures within a single class. If you define multiple methods with the same name in a Python class, only the last defined method will be recognized.\n",
        "    However, Python achieves the effect of method overloading through alternative mechanisms:\n",
        "\n",
        "    •\tDefault Arguments: Assigning default values to parameters allows a method to be called with or without providing values for those parameters.\n",
        "   \n",
        "    class Greet:\n",
        "        def hello(self, name=\"Guest\"):\n",
        "            print(f\"Hello, {name}!\")\n",
        "\n",
        "    g = Greet()\n",
        "    g.hello()       # Calls with default argument\n",
        "    g.hello(\"Alice\") # Calls with provided argument\n",
        "\n",
        "    •\tVariable-Length Arguments (*args and `: kwargs`):** These allow a method to accept an arbitrary number of positional arguments (*args) or keyword arguments (**kwargs), enabling flexible input handling.\n",
        "    \n",
        "    class Calculator:\n",
        "        def add(self, *numbers):\n",
        "            total = 0\n",
        "            for num in numbers:\n",
        "                total += num\n",
        "            print(f\"Sum: {total}\")\n",
        "\n",
        "    c = Calculator()\n",
        "    c.add(1, 2)\n",
        "    c.add(1, 2, 3, 4)\n"
      ],
      "metadata": {
        "id": "6SP6vlPlDdm4"
      }
    },
    {
      "cell_type": "markdown",
      "source": [
        "12.\tWhat is method overriding in OOP?\n",
        "    \n",
        "    Method overriding in object-oriented programming is when a subclass provides a specific implementation of a method that is already defined in its parent class. This allows the subclass to customize the behavior of inherited methods, providing a specialized version of the method's functionality.\n",
        "\n"
      ],
      "metadata": {
        "id": "S7yc3LzuDvfF"
      }
    },
    {
      "cell_type": "markdown",
      "source": [
        "13.\tWhat is a property decorator in python.\n",
        "\n",
        "    The @property decorator in Python is a built-in decorator that allows you to define methods within a class that can be accessed like attributes. This provides a clean and Pythonic way to manage access to class attributes, enabling features such as data validation, computation, and controlled access without directly exposing the internal representation of the attribute.\n",
        "\n",
        "    Key aspects of the @property decorator:\n",
        "\n",
        "    •\tManaged Attributes:\n",
        "It transforms a method into a \"managed attribute,\" meaning you can define custom logic for getting, setting, and deleting the attribute's value.\n",
        "    \n",
        "    •\tEncapsulation:\n",
        "It promotes encapsulation by allowing you to control how an attribute is accessed and modified, preventing direct manipulation and ensuring data integrity.\n",
        "    \n",
        "    •\tGetter, Setter, and Deleter:\n",
        "o\t@property: Used to define the getter method, which retrieves the value of the attribute.\n",
        "o\t@<property_name>.setter: Used to define the setter method, which sets the value of the attribute and can include validation or other logic.\n",
        "o\t@<property_name>.deleter: Used to define the deleter method, which handles the deletion of the attribute.\n",
        "    \n",
        "    •\tCleaner Code:\n",
        "It simplifies the code by allowing you to use attribute-like access (e.g., object.attribute) instead of explicit method calls (e.g., object.get_attribute()).\n",
        "Example:\n",
        "class Circle:\n",
        "    def __init__(self, radius):\n",
        "        self._radius = radius  # Private attribute convention\n",
        "\n",
        "    @property\n",
        "    def radius(self):\n",
        "        \"\"\"The radius property.\"\"\"\n",
        "        return self._radius\n",
        "\n",
        "    @radius.setter\n",
        "    def radius(self, value):\n",
        "        if value < 0:\n",
        "            raise ValueError(\"Radius cannot be negative\")\n",
        "        self._radius = value\n",
        "\n",
        "    @radius.deleter\n",
        "    def radius(self):\n",
        "        del self._radius\n",
        "\n",
        "# Usage\n",
        "my_circle = Circle(5)\n",
        "print(my_circle.radius)  # Accesses the getter\n",
        "my_circle.radius = 10    # Accesses the setter\n",
        "print(my_circle.radius)\n",
        "# my_circle.radius = -2  # This would raise a ValueError\n",
        "del my_circle.radius     # Accesses the deleter\n"
      ],
      "metadata": {
        "id": "0fbz5HcAD0JF"
      }
    },
    {
      "cell_type": "markdown",
      "source": [
        "14. Why is polymorphism important in OOP.\n",
        "\n",
        "    Polymorphism is crucial in object-oriented programming (OOP) because it enables code flexibility, reusability, and maintainability by allowing objects of different types to be treated as objects of a common type. This means you can write code that works with a general interface, without needing to know the specific type of object it's interacting with, leading to more adaptable and efficient software.\n",
        "    Here's a more detailed explanation:\n",
        "\n",
        "    1. Code Reusability and Reduced Redundancy:\n",
        "•\tPolymorphism allows you to write a single method that can be used with multiple object types, reducing the need to write separate methods for each type.\n",
        " For example, a \"draw\" method could be implemented differently for a circle, square, or triangle, but you can still call draw() on any of them through a generic shape interface.\n",
        "\n",
        "    2. Flexibility and Extensibility:\n",
        "•\tYou can easily add new classes (like a new shape) without modifying existing code that uses the common interface, making your code more adaptable to changes.\n",
        "•\tThis means you can extend your program without breaking existing functionality.\n",
        "\n",
        "    3. Abstraction:\n",
        "•\tPolymorphism promotes abstraction by hiding the specific implementation details of each object behind a common interface.\n",
        "•\tYou can interact with objects based on what they can do (their methods) rather than how they do it.\n",
        "    \n",
        "    4. Improved Code Organization:\n",
        "•\tBy using polymorphism, you can organize your code around general behaviors and relationships between objects, making it easier to understand and maintain.\n",
        " Instead of having many conditional statements to handle different object types, you can rely on the polymorphism to handle the correct behavior.\n",
        "    \n",
        "    5. Foundation of OOP:\n",
        "•\tLanguages that lack polymorphism are considered \"object-based\" rather than \"object-oriented.\"\n",
        "  Polymorphism is a core principle that enables other OOP concepts like inheritance and interfaces to be fully utilized.\n",
        "\n",
        "    In essence, polymorphism is a powerful tool that makes OOP code more adaptable, reusable, and maintainable, allowing for the creation of more complex and robust software systems\n"
      ],
      "metadata": {
        "id": "J6ukbs93EDZc"
      }
    },
    {
      "cell_type": "markdown",
      "source": [
        "15.\tWhat is an abstract class in python?\n",
        "\n",
        "    An abstract class in Python is a class that serves as a blueprint for other classes and cannot be instantiated directly. It is designed to define a common interface and enforce a certain structure among its subclasses.\n",
        "    Key characteristics of an abstract class in Python:\n",
        "\n",
        "    •\tCannot be Instantiated: You cannot create an object directly from an abstract class. Its purpose is to be inherited by other concrete classes.\n",
        "\n",
        "    •\tContains Abstract Methods:An abstract class typically contains one or more abstract methods. An abstract method is declared but lacks an implementation within the abstract class itself. Subclasses are then required to provide concrete implementations for these abstract methods.\n",
        "\n",
        "    •\tDefined using the abc Module:Python provides the abc (Abstract Base Classes) module to create abstract classes. You define an abstract class by inheriting from ABC and decorate abstract methods with @abstractmethod.\n",
        "Example:\n",
        "from abc import ABC, abstractmethod\n",
        "\n",
        "class Shape(ABC):  # Inherits from ABC to become an abstract class\n",
        "    @abstractmethod\n",
        "    def area(self):\n",
        "        pass  # Abstract method with no implementation\n",
        "\n",
        "    @abstractmethod\n",
        "    def perimeter(self):\n",
        "        pass  # Another abstract method\n",
        "\n",
        "class Circle(Shape):\n",
        "    def __init__(self, radius):\n",
        "        self.radius = radius\n",
        "\n",
        "    def area(self):\n",
        "        return 3.14 * self.radius * self.radius\n",
        "\n",
        "    def perimeter(self):\n",
        "        return 2 * 3.14 * self.radius\n",
        "\n",
        "# shape_obj = Shape() # This would raise a TypeError\n",
        "circle_obj = Circle(5)\n",
        "print(f\"Area of circle: {circle_obj.area()}\")\n"
      ],
      "metadata": {
        "id": "P3-MY1i2Ec_Y"
      }
    },
    {
      "cell_type": "markdown",
      "source": [
        "16.\tWhat are the advantages of OOP.\n",
        "   \n",
        "   Object-Oriented Programming (OOP) offers several advantages, including improved code organization through modularity, reusability via inheritance, flexibility with polymorphism, and easier maintenance due to encapsulation. These features collectively lead to more efficient, scalable, and maintainable software development.\n",
        "\n",
        "  Here's a more detailed look at the benefits:\n",
        "  \n",
        "  1. Modularity: OOP allows breaking down complex problems into smaller, manageable objects, making code easier to understand, debug, and maintain.\n",
        "  \n",
        "  2. Reusability: Inheritance allows creating new classes based on existing ones, promoting code reuse and reducing development time and effort.\n",
        "  \n",
        "  3. Encapsulation: Hiding the internal details of objects and exposing only necessary interfaces enhances security and simplifies code modification.\n",
        "  \n",
        "  4. Polymorphism: The ability of objects to take on multiple forms allows for flexible and adaptable code, making it easier to handle diverse situations and extend functionality.\n",
        "   \n",
        "  5. Improved Maintainability: The modular structure and reusability features of OOP make it easier to update, modify, and troubleshoot code, leading to better long-term maintainability.\n",
        "   \n",
        "  6. Enhanced Productivity: OOP promotes the use of reusable components and libraries, leading to faster development cycles and increased programmer productivity.\n",
        "   \n",
        "  7. Real-World Modeling: OOP allows representing real-world objects and their relationships in code, making it easier to understand and conceptualize complex systems.\n",
        "   \n",
        "  8. Scalability: OOP facilitates the development of scalable applications that can easily adapt to growing needs and changing requirements.\n",
        "\n",
        "   9. Security: Features like encapsulation and data hiding contribute to increased security by limiting access to sensitive data and functionalities\n"
      ],
      "metadata": {
        "id": "JluJwmmLEtHF"
      }
    },
    {
      "cell_type": "markdown",
      "source": [
        "17.\tWhat is the difference  between class variable and instance variable.\n",
        "\n",
        "   The fundamental difference between class variables and instance variables lies in their scope, ownership, and how they are accessed and modified.\n",
        "\n",
        "   Class Variables:\n",
        "\n",
        "   •\tOwnership: Belong to the class itself, not to any specific instance of the class.\n",
        "\n",
        "   •\tScope: Shared by all instances of the class. Any change to a class variable is reflected across all objects created from that class.\n",
        "\n",
        "   •\tAccess: Can be accessed directly using the class name (e.g., ClassName.class_variable) or through an instance (e.g., instance_object.class_variable).\n",
        "\n",
        "   •\tUse Cases: Suitable for data that is common to all instances, such as constants, shared counters, or configurations.\n",
        "\n",
        "   Instance Variables:\n",
        "\n",
        "   •\tOwnership: Belong to a specific instance (object) of the class. Each instance has its own independent copy of instance variables.\n",
        "\n",
        "   •\tScope: Unique to each instance. Changes to an instance variable in one object do not affect the same variable in other objects.\n",
        "   \n",
        "   •\tAccess: Accessed only through an instance of the class (e.g., instance_object.instance_variable).\n",
        "\n",
        "   •\tUse Cases: Suitable for data that is specific to each individual object, such as an object's name, age, or specific attributes\n"
      ],
      "metadata": {
        "id": "8IrCHNWLFCOe"
      }
    },
    {
      "cell_type": "markdown",
      "source": [
        "18.\tWhat is multiple inheritance in python.\n",
        "\n",
        "   Multiple inheritance in Python is a feature of object-oriented programming that allows a class to inherit attributes and methods from more than one parent (or base) class. This means a single child class can combine functionalities and characteristics from multiple distinct sources.\n",
        "   Key aspects of multiple inheritance in Python:\n",
        "\n",
        "   •\tSyntax: To implement multiple inheritance, you list all parent classes within the parentheses when defining the child class, separated by commas.\n",
        "    class ParentClass1:\n",
        "        # attributes and methods\n",
        "\n",
        "    class ParentClass2:\n",
        "        # attributes and methods\n",
        "\n",
        "    class ChildClass(ParentClass1, ParentClass2):\n",
        "        # attributes and methods of ChildClass, plus those inherited from Pare\n"
      ],
      "metadata": {
        "id": "0lSO8fSuFS7P"
      }
    },
    {
      "cell_type": "markdown",
      "source": [
        "19.\tExplain the purpose of “__str___” and “__repr__” methods in python.\n",
        "\n",
        "   In Python, __str__ and __repr__ are special \"dunder\" (double underscore) methods that define how an object is represented as a string.\n",
        "\n",
        "   •\t__str__ (for \"string\"):\n",
        "This method provides an \"informal\" or \"human-readable\" string representation of an object. Its primary purpose is to be user-friendly and easily understandable when printed or displayed to an end-user. When you use print(obj) or str(obj), Python implicitly calls the __str__ method of the object. If __str__ is not defined, __repr__ is used as a fallback.\n",
        "\n",
        "   •\t__repr__ (for \"representation\"):\n",
        "This method provides an \"official\" or \"formal\" string representation of an object. Its primary purpose is for debugging and development, aiming to be unambiguous and ideally capable of recreating the object. When you inspect an object in the Python interactive shell (e.g., by simply typing the object's name), or when you use repr(obj), Python calls the __repr__ method. The goal is often to provide a string that, if passed to eval(), would reconstruct an equivalent object.\n",
        "In essence, __str__ is for users, while __repr__ is for developers\n"
      ],
      "metadata": {
        "id": "y6EioVNeFW7L"
      }
    },
    {
      "cell_type": "markdown",
      "source": [
        "20.\tWhat is the significance of ‘super()’ function in python.\n",
        "  \n",
        "  The super() function in Python is a built-in function primarily used in the context of class inheritance. Its significance lies in enabling subclasses to call methods of their parent (or super) classes.\n",
        "   Key significances of super():\n",
        "   \n",
        "   •\tCalling Parent Class Methods: The most common use is to call the __init__ method of the parent class from within the __init__ method of the subclass. This ensures that the parent class's initialization logic is executed, properly setting up inherited attributes.\n",
        "   \n",
        "    class Parent:\n",
        "        def __init__(self, name):\n",
        "            self.name = name\n",
        "\n",
        "    class Child(Parent):\n",
        "        def __init__(self, name, age):\n",
        "            super().__init__(name)  # Calls Parent's __init__\n",
        "            self.age = age\n",
        "   \n",
        "   •\tMethod Overriding and Extension: super() allows subclasses to override a parent class method while still incorporating some or all of the parent's functionality. This promotes code reusability and avoids repeating logic.\n",
        "   \n",
        "    class Animal:\n",
        "        def speak(self):\n",
        "            print(\"Generic animal sound\")\n",
        "\n",
        "    class Dog(Animal):\n",
        "        def speak(self):\n",
        "            super().speak()  # Calls Animal's speak()\n",
        "            print(\"Woof!\")\n"
      ],
      "metadata": {
        "id": "5Oa0Mz2vFfev"
      }
    },
    {
      "cell_type": "markdown",
      "source": [
        "21.\tWhat is the significance of “__del__” method in python.\n",
        "   \n",
        "   The __del__ method in Python, also known as the finalizer or destructor, is a special method that is called by the garbage collector when an object is about to be destroyed. Its primary significance lies in its role in resource cleanup.\n",
        "  \n",
        "   Key Significance:\n",
        "   \n",
        "   •\tResource Management: The __del__ method allows an object to release any external resources it holds that are not automatically managed by Python's garbage collector. This includes things like:\n",
        "o\tClosing open file handles.\n",
        "o\tTerminating network connections.\n",
        "o\tReleasing memory allocated by C extensions.\n",
        "o\tCleaning up other system-level resources.\n",
        "   \n",
        "   •\tFinalization: It provides a mechanism for an object to perform any necessary finalization tasks before it is completely removed from memory. This can involve writing data to a log, notifying other parts of the system, or ensuring data integrity.\n",
        "  \n",
        "   Important Considerations:\n",
        "   \n",
        "   •\tGarbage Collection: __del__ is called when the object's reference count drops to zero (in CPython) or when the garbage collector determines the object is no longer reachable. The exact timing of this call is not guaranteed and can vary between Python implementations.\n",
        "   \n",
        "   •\tNot for Deletion: It is crucial to understand that __del__ does not delete the object itself; rather, it is called before the object is deleted.\n",
        "   \n",
        "   •\tAvoid Complex Logic: Due to the unpredictable nature of garbage collection and potential issues with the state of the interpreter during shutdown, it is generally recommended to keep the logic within __del__ methods as simple as possible.\n",
        "   \n",
        "   •\tContext Managers (Preferred Alternative): For managing resources that require explicit cleanup (like files or network connections), using context managers (with with statements and __enter__/__exit__ methods) is generally preferred over __del__ because they provide deterministic resource release.\n"
      ],
      "metadata": {
        "id": "3B8SnpNzFoJL"
      }
    },
    {
      "cell_type": "markdown",
      "source": [
        "22.\tWhat is the difference between @staticmethod and @classmethod in python.\n",
        "\n",
        "   The @staticmethod and @classmethod decorators in Python define methods within a class with distinct behaviors regarding their access to class and instance data.\n",
        "\n",
        "   @classmethod:\n",
        "   \n",
        "   •\tTakes cls as the first argument: A class method automatically receives the class itself (cls) as its first argument, allowing it to access and modify class-level attributes.\n",
        "   \n",
        "   •\tUse cases: Often used for alternative constructors (factory methods) or operations that interact with or modify class-level data.\n",
        "   \n",
        "   @staticmethod:\n",
        "   \n",
        "   •\tNo implicit first argument: A static method does not receive self (instance) or cls (class) as an implicit first argument. It behaves like a regular function placed within the class's namespace.\n",
        "   \n",
        "   •\tUse cases: Primarily used for utility functions that are logically related to the class but do not require access to either instance-specific data or class-level attributes. They are independent of the class's state.\n",
        "\n",
        "   Key Differences Summarized:\n",
        "\n",
        "   •\tArgument Signature: Class methods take cls, static methods take no special first argument.\n",
        "   \n",
        "   •\tAccess to State: Class methods can access and modify class attributes; static methods cannot access class or instance attributes directly.\n",
        "   \n",
        "   •\tPurpose: Class methods are for class-level operations (e.g., factory methods); static methods are for utility functions within the class's scope.\n"
      ],
      "metadata": {
        "id": "z8P1F5hWF2QG"
      }
    },
    {
      "cell_type": "markdown",
      "source": [
        "23.\tHow does polymorphism work in python with inheritance.\n",
        "   \n",
        "   Polymorphism in Python, when combined with inheritance, primarily functions through method overriding. This allows objects of different classes that share a common base class to be treated uniformly, even though their specific implementations of a method may differ.\n",
        "   \n",
        "   Here's how it works:\n",
        "   \n",
        "   •\tInheritance: A child class (subclass) inherits attributes and methods from its parent class (superclass). This establishes a \"is-a\" relationship, meaning a child class object \"is a\" type of the parent class object.\n",
        "   \n",
        "   •\tMethod Overriding:A child class can redefine a method that it inherited from its parent class. This means the child class provides its own implementation for that specific method, overriding the parent's version. The method in the child class must have the same name and signature (parameters) as the method in the parent class.\n",
        "   \n",
        "   •\tPolymorphic Behavior: When you call a method on an object, Python determines which version of the method to execute based on the actual type of the object at runtime, not just its declared type (if applicable). If the object is an instance of a child class that has overridden a method, the child class's version of that method will be executed. If it hasn't been overridden, the parent class's version will be executed.\n",
        "Example:\n",
        "\n",
        "class Animal:\n",
        "    def speak(self):\n",
        "        return \"Generic animal sound\"\n",
        "\n",
        "class Dog(Animal):\n",
        "    def speak(self):\n",
        "        return \"Woof!\"\n",
        "\n",
        "class Cat(Animal):\n",
        "    def speak(self):\n",
        "        return \"Meow!\"\n",
        "\n",
        "def make_sound(animal):\n",
        "    print(animal.speak())\n",
        "\n",
        "dog = Dog()\n",
        "cat = Cat()\n",
        "animal = Animal()\n",
        "\n",
        "make_sound(dog)    # Output: Woof!\n",
        "make_sound(cat)    # Output: Meow!\n",
        "make_sound(animal) # Output: Generic animal sound\n"
      ],
      "metadata": {
        "id": "AaHlHl08GL-Z"
      }
    },
    {
      "cell_type": "markdown",
      "source": [
        "24.\tWhat is method chaining in python OOP.\n",
        "\n",
        "   Method chaining in Python Object-Oriented Programming (OOP) is a technique that allows multiple methods to be called sequentially on the same object in a single line of code. This is achieved by having each method in the chain return the object itself (or a modified version of it) after performing its operation.\n",
        "\n",
        "   Key aspects of method chaining:\n",
        "\n",
        "   •\tReturning self: The fundamental principle is that each method intended for chaining must explicitly return self at the end of its execution. This ensures that the object instance is passed along to the next method call in the chain.\n",
        "\n",
        "   •\tConciseness and Readability: Method chaining can make code more concise and readable, especially when performing a series of operations on the same object. It eliminates the need for intermediate variables to store the object at each step.\n",
        "\n",
        "   •\tFluent Interfaces: It contributes to creating \"fluent interfaces\" where the code reads more like a natural language sentence, describing a sequence of actions.\n",
        "\n",
        "   •\tExample:\n",
        "   \n",
        "    class Calculator:\n",
        "        def __init__(self, value=0):\n",
        "            self.value = value\n",
        "\n",
        "        def add(self, num):\n",
        "            self.value += num\n",
        "            return self\n",
        "\n",
        "        def subtract(self, num):\n",
        "            self.value -= num\n",
        "            return self\n",
        "\n",
        "        def get_result(self):\n",
        "            return self.value\n",
        "\n",
        "    # Method chaining in action\n",
        "    result = Calculator(10).add(5).subtract(2).get_result()\n",
        "    print(result) # Output: 13\n",
        "In this example, add() and subtract() methods return self, enabling them to be chained together. The final get_result() method then returns the computed value.\n"
      ],
      "metadata": {
        "id": "CEzySgBLGSGb"
      }
    },
    {
      "cell_type": "markdown",
      "source": [
        "25.\tWhat is the purpose of __call__ method in python.\n",
        "  \n",
        "   The __call__ method in Python allows instances of a class to be called like functions. When this method is defined within a class, and an instance of that class is subsequently invoked using parentheses (e.g., my_object()), the __call__ method of that instance is automatically executed.\n",
        "\n",
        "   The primary purpose of __call__ is to create \"callable objects\" or \"functors,\" which are objects that behave like functions while potentially holding state or encapsulating more complex logic than a simple function. This enables:\n",
        "\n",
        "   •\tCreating function-like objects with state: The object can store data in its attributes and use that data during subsequent calls, unlike a pure function which typically operates only on its arguments.\n",
        "\n",
        "   •\tImplementing decorators: __call__ is fundamental in creating class-based decorators, where the decorator itself is an instance of a class that wraps another function.\n",
        "\n",
        "   •\tBuilding flexible APIs and frameworks: It allows for a more intuitive and consistent interface where certain objects can be directly invoked to perform actions.\n",
        "\n",
        "   •\tCreating factories or generators: Objects can be designed to generate or configure other objects or values upon being called.\n",
        "\n"
      ],
      "metadata": {
        "id": "u-Jl3VXpGf33"
      }
    },
    {
      "cell_type": "markdown",
      "source": [
        "**PRACTICAL QUESTIONS**"
      ],
      "metadata": {
        "id": "aCcdr6lrG_6d"
      }
    },
    {
      "cell_type": "code",
      "source": [],
      "metadata": {
        "id": "S8x8vMk7H-qV"
      },
      "execution_count": null,
      "outputs": []
    },
    {
      "cell_type": "code",
      "source": [
        "\"\"\"1. Create a parent class Animal with a method speak() that prints a generic message.\n",
        "Create a child class Dog that overrides the speak() method to print \"Bark\".\"\"\"\n",
        "\n",
        "class Animal :\n",
        "  def speak(self):\n",
        "    print(\"Animal is speaking\")\n",
        "\n",
        "class Dog(Animal):\n",
        "  def speak(self):\n",
        "    print(\"Dog is barking\")\n",
        "\n",
        "dog = Dog()\n",
        "dog.speak()"
      ],
      "metadata": {
        "colab": {
          "base_uri": "https://localhost:8080/"
        },
        "id": "Hwl4ST6xHERC",
        "outputId": "d13a6a20-e366-4de8-e218-dda483c41278"
      },
      "execution_count": null,
      "outputs": [
        {
          "output_type": "stream",
          "name": "stdout",
          "text": [
            "Dog is barking\n"
          ]
        }
      ]
    },
    {
      "cell_type": "code",
      "source": [
        "\"\"\" 2. Write a program to create an abstract class Shape with a method area().\n",
        "Derive classes circle and rectangle from it and implement the area() method in both.\"\"\"\n",
        "\n",
        "from abc import ABC, abstractmethod\n",
        "import math\n",
        "\n",
        "class Shape(ABC):\n",
        "\n",
        "  @abstractmethod\n",
        "  def area(self):\n",
        "    pass\n",
        "\n",
        "class Circle(Shape):\n",
        "  def __init__(self,radius):\n",
        "    self.radius = radius\n",
        "\n",
        "  def area(self):\n",
        "    return math.pi*self.radius**2\n",
        "\n",
        "class Rectangle(Shape):\n",
        "  def __init__(self,length,width):\n",
        "    self.length = length\n",
        "    self.width = width\n",
        "\n",
        "  def area(self):\n",
        "    return self.length*self.width\n",
        "\n",
        "circle = Circle(5)\n",
        "print(f\"Area of circle of radius {circle.radius} is {circle.area()}\")\n",
        "\n",
        "rectangle = Rectangle(4,8)\n",
        "print(f\"Area of rectangle of length {rectangle.length} and width {rectangle.width} is {rectangle.area()}\")\n",
        "\n"
      ],
      "metadata": {
        "colab": {
          "base_uri": "https://localhost:8080/"
        },
        "id": "TwWFrPlOHnKH",
        "outputId": "87da223f-f080-43c5-c563-6b92fd9514ee"
      },
      "execution_count": null,
      "outputs": [
        {
          "output_type": "stream",
          "name": "stdout",
          "text": [
            "Area of circle of radius 5 is 78.53981633974483\n",
            "Area of rectangle of length 4 and width 8 is 32\n"
          ]
        }
      ]
    },
    {
      "cell_type": "code",
      "source": [
        "\"\"\" 3.Implement a multi level inheritance scenario where a class Vehicle has an attribute type.\n",
        "Derive a class Car and further derive a care ElectricCar that adds a battery attribute\"\"\"\n",
        "\n",
        "class Vehicle:\n",
        "  def __init__(self,type):\n",
        "    self.type = type\n",
        "\n",
        "  def display_type(self):\n",
        "    print(f\"Vehicle type is {self.type}\")\n",
        "\n",
        "class Car(Vehicle):\n",
        "  def __init__(self,type,color):\n",
        "    super().__init__(type)\n",
        "    self.color = color\n",
        "\n",
        "  def display_type_and_color(self):\n",
        "    self.display_type()\n",
        "    print(f\"Car color is :{self.color}\")\n",
        "\n",
        "class ElectricCar(Car):\n",
        "  def __init__(self,type,color,battery):\n",
        "    super().__init__(type,color)\n",
        "    self.battery = battery\n",
        "\n",
        "  def display_type_color_and_battery(self,battery):\n",
        "    self.display_type_and_color()\n",
        "    print(f\"Electric car battery is :{self.battery}\")\n",
        "\n",
        "\n",
        "electric_car = ElectricCar(\"Sedan\",\"Blue\",75)\n",
        "print(electric_car.display_type_color_and_battery(75))\n"
      ],
      "metadata": {
        "colab": {
          "base_uri": "https://localhost:8080/"
        },
        "id": "nVXm1gc-OleB",
        "outputId": "1ceb292a-7229-4450-e80a-e050a1795c7b"
      },
      "execution_count": null,
      "outputs": [
        {
          "output_type": "stream",
          "name": "stdout",
          "text": [
            "Vehicle type is Sedan\n",
            "Car color is :Blue\n",
            "Electric car battery is :75\n",
            "None\n"
          ]
        }
      ]
    },
    {
      "cell_type": "code",
      "source": [
        "\"\"\"4. Demonstrate polymorphism by creating a base class Bird with a method fly().\n",
        "Create 2 derived classes Sparrow and Penguin That override the fly method\"\"\"\n",
        "\n",
        "class Bird:\n",
        "  def fly(self):\n",
        "    print(\"Bird is flying\")\n",
        "\n",
        "class Sparrow(Bird):\n",
        "  def fly(self):\n",
        "    print(\"Sparrow is flying\")\n",
        "\n",
        "class Penguin(Bird):\n",
        "  def fly(self):\n",
        "    print(\"Penguin is flying\")\n",
        "\n",
        "sparrow = Sparrow()\n",
        "sparrow.fly()\n",
        "\n",
        "penguin = Penguin()\n",
        "penguin.fly()"
      ],
      "metadata": {
        "colab": {
          "base_uri": "https://localhost:8080/"
        },
        "id": "8ZPltBCoU3Xf",
        "outputId": "57d59af5-4d5c-48b6-9287-38ab90377a80"
      },
      "execution_count": null,
      "outputs": [
        {
          "output_type": "stream",
          "name": "stdout",
          "text": [
            "Sparrow is flying\n",
            "Penguin is flying\n"
          ]
        }
      ]
    },
    {
      "cell_type": "code",
      "source": [
        "\"\"\"5. Write a program to demonstrate Encapsulation by creating a class BankAccount with private attributes balance and methods to\n",
        "deposit, withdraw and check_balance.\"\"\"\n",
        "\n",
        "class BankAccount:\n",
        "  def __init__(self,balance):\n",
        "    self.__balance=balance\n",
        "    print(\"Initial balance is:\",self.__balance)\n",
        "\n",
        "  def deposit(self,amount):\n",
        "    self.amount=amount\n",
        "    self.__balance+=self.amount\n",
        "    print(f\"After deposited {self.amount} ,new balance is\",self.__balance)\n",
        "\n",
        "  def withdraw(self,amount):\n",
        "   self.amount=amount\n",
        "   if self.__balance>=self.amount:\n",
        "    self.__balance-=self.amount\n",
        "    print(f\"After withdrawing (self.amount),new balance is \",self.__balance)\n",
        "   else:\n",
        "    print(\"Insufficient balance\")\n",
        "\n",
        "  def check_balance(self):\n",
        "    print(\"Current balance is:\",self.__balance)\n",
        "\n",
        "bal = BankAccount(1000)\n",
        "bal.deposit(2000)\n",
        "bal.withdraw(200)\n",
        "bal.check_balance()\n",
        "\n"
      ],
      "metadata": {
        "id": "SZQf5KL3WR7C",
        "colab": {
          "base_uri": "https://localhost:8080/"
        },
        "outputId": "20384214-f6c7-459a-c31a-a092b703cc4e"
      },
      "execution_count": null,
      "outputs": [
        {
          "output_type": "stream",
          "name": "stdout",
          "text": [
            "Initial balance is: 1000\n",
            "After deposited 2000 ,new balance is 3000\n",
            "After withdrawing (self.amount),new balance is  2800\n",
            "Current balance is: 2800\n"
          ]
        }
      ]
    },
    {
      "cell_type": "code",
      "source": [
        "\"\"\"6. Demonstrate runtime polymorphism using method play() in a base class instrument.\n",
        "Derive class Guitar and Piano that implement their own version of play.\"\"\"\n",
        "\n",
        "class Instrument:\n",
        "  def play(self):\n",
        "    print(\"Instrument is playing\")\n",
        "\n",
        "class Guitar(Instrument):\n",
        "  def play(self):\n",
        "    print(\"Guitar is playing\")\n",
        "\n",
        "class Piano(Instrument):\n",
        "  def play(self):\n",
        "    print(\"Piano is playing\")\n",
        "\n",
        "guitar=Guitar()\n",
        "guitar.play()\n",
        "\n",
        "piano=Piano()\n",
        "piano.play()\n"
      ],
      "metadata": {
        "id": "ZJz7Gt4HXA6a",
        "colab": {
          "base_uri": "https://localhost:8080/"
        },
        "outputId": "6fd6f5a9-8ba5-4294-98c2-535c531b8f69"
      },
      "execution_count": null,
      "outputs": [
        {
          "output_type": "stream",
          "name": "stdout",
          "text": [
            "Guitar is playing\n",
            "Piano is playing\n"
          ]
        }
      ]
    },
    {
      "cell_type": "code",
      "source": [],
      "metadata": {
        "id": "F4-dDs3qzSOh"
      },
      "execution_count": null,
      "outputs": []
    },
    {
      "cell_type": "code",
      "source": [
        " \"\"\"7. Create a class MathOperations with a class method add_numbers() to add 2 numvbers and a static method subtract_numbers to subtract 2 numbers.\"\"\"\n",
        "\n",
        "class MathOperations:\n",
        "  @classmethod\n",
        "  def add_number(cls,a,b):\n",
        "    print(\"Sum is :\",a+b)\n",
        "  @staticmethod\n",
        "  def subtract_number(a,b):\n",
        "    print(\"Diff is :\",a-b)\n",
        "\n",
        "MathOperations.add_number(6,4)\n",
        "MathOperations.subtract_number(8,4)"
      ],
      "metadata": {
        "id": "vMuMLHvlXURZ",
        "colab": {
          "base_uri": "https://localhost:8080/"
        },
        "outputId": "2d5f8f71-aac4-4f2f-a84e-c39d5afb7284"
      },
      "execution_count": null,
      "outputs": [
        {
          "output_type": "stream",
          "name": "stdout",
          "text": [
            "Sum is : 10\n",
            "Diff is : 4\n"
          ]
        }
      ]
    },
    {
      "cell_type": "code",
      "source": [
        "\"\"\"8. Implement a class Person with a method to count total numbers of person created\"\"\"\n",
        "\n",
        "class Person:\n",
        "  count=0\n",
        "  def __init__(self,name,age):\n",
        "    self.name=name\n",
        "    self.age=age\n",
        "    Person.count+=1\n",
        "\n",
        "  def display_count(self):\n",
        "    print(\"Total number of persons:\",Person.count)\n",
        "\n",
        "person1=Person(\"Ajay\",24)\n",
        "person2=Person(\"Vijay\",65)\n",
        "person3=Person(\"Rahul\",43)\n",
        "person1.display_count()\n",
        "\n",
        "\n"
      ],
      "metadata": {
        "id": "xMUKmdTmXxKo",
        "colab": {
          "base_uri": "https://localhost:8080/"
        },
        "outputId": "200348c7-c524-4227-b958-92a10a7db184"
      },
      "execution_count": null,
      "outputs": [
        {
          "output_type": "stream",
          "name": "stdout",
          "text": [
            "Total number of persons: 3\n"
          ]
        }
      ]
    },
    {
      "cell_type": "code",
      "source": [
        "\"\"\"9. Write a class fraction with attributes numerator and denominator. Override the str method to display the fracton as \"numerator/denominator\"\"\"\n",
        "\n",
        "class Fraction:\n",
        "  def __init__(self,numerator,denominator):\n",
        "    self.numerator=numerator\n",
        "    self.denominator=denominator\n",
        "\n",
        "  def __str__(self):\n",
        "    print(f\"{self.numerator}/{self.denominator}\")\n",
        "\n",
        "fraction=Fraction(5,9)\n",
        "print(\"fraction is :\",fraction)"
      ],
      "metadata": {
        "id": "25Sk2d7OX8ew",
        "colab": {
          "base_uri": "https://localhost:8080/",
          "height": 198
        },
        "outputId": "b27319cb-cebf-4493-9d29-3e7f0cd9d67d"
      },
      "execution_count": null,
      "outputs": [
        {
          "output_type": "stream",
          "name": "stdout",
          "text": [
            "fraction is : 5/9\n"
          ]
        },
        {
          "output_type": "error",
          "ename": "TypeError",
          "evalue": "__str__ returned non-string (type NoneType)",
          "traceback": [
            "\u001b[0;31m---------------------------------------------------------------------------\u001b[0m",
            "\u001b[0;31mTypeError\u001b[0m                                 Traceback (most recent call last)",
            "\u001b[0;32m/tmp/ipython-input-1135558594.py\u001b[0m in \u001b[0;36m<cell line: 0>\u001b[0;34m()\u001b[0m\n\u001b[1;32m     10\u001b[0m \u001b[0;34m\u001b[0m\u001b[0m\n\u001b[1;32m     11\u001b[0m \u001b[0mfraction\u001b[0m\u001b[0;34m=\u001b[0m\u001b[0mFraction\u001b[0m\u001b[0;34m(\u001b[0m\u001b[0;36m5\u001b[0m\u001b[0;34m,\u001b[0m\u001b[0;36m9\u001b[0m\u001b[0;34m)\u001b[0m\u001b[0;34m\u001b[0m\u001b[0;34m\u001b[0m\u001b[0m\n\u001b[0;32m---> 12\u001b[0;31m \u001b[0mprint\u001b[0m\u001b[0;34m(\u001b[0m\u001b[0;34m\"fraction is :\"\u001b[0m\u001b[0;34m,\u001b[0m\u001b[0mfraction\u001b[0m\u001b[0;34m)\u001b[0m\u001b[0;34m\u001b[0m\u001b[0;34m\u001b[0m\u001b[0m\n\u001b[0m",
            "\u001b[0;31mTypeError\u001b[0m: __str__ returned non-string (type NoneType)"
          ]
        }
      ]
    },
    {
      "cell_type": "code",
      "source": [
        "\"\"\"10. Demonstrate operator overloading by creating a class Vector and overriding the add 2 vectors\"\"\"\n",
        "\n",
        "class Vector:\n",
        "\n",
        "  def __init__(self,x,y):\n",
        "    self.x=x\n",
        "    self.y=y\n",
        "\n",
        "  def __add__(self,other):\n",
        "    return Vector(self.x+other.x,self.y+other.y)\n",
        "\n",
        "  def __str__(self):\n",
        "    return f\"Vector({self.x}, {self.y})\"\n",
        "\n",
        "vector1=Vector(2,2)\n",
        "vector2=Vector(7,1)\n",
        "result_vector = vector1+vector2\n",
        "\n",
        "print(f\"Vector 1: {vector1}\")\n",
        "print(f\"Vector 2: {vector2}\")\n",
        "print(f\"Resultant Vector (Vector 1 + Vector 2): {result_vector}\")\n"
      ],
      "metadata": {
        "colab": {
          "base_uri": "https://localhost:8080/"
        },
        "id": "mac5mMBJ3OQ7",
        "outputId": "8890039a-d8dc-4146-fcfa-a4d76e0bf185"
      },
      "execution_count": 49,
      "outputs": [
        {
          "output_type": "stream",
          "name": "stdout",
          "text": [
            "Vector 1: Vector(2, 2)\n",
            "Vector 2: Vector(7, 1)\n",
            "Resultant Vector (Vector 1 + Vector 2): Vector(9, 3)\n"
          ]
        }
      ]
    },
    {
      "cell_type": "code",
      "source": [],
      "metadata": {
        "id": "XEP71YDb7372"
      },
      "execution_count": null,
      "outputs": []
    },
    {
      "cell_type": "code",
      "source": [
        "\"\"\"11. Create a class Person with attributes name and age. Add a method greet() that prints \"Hello,my name is {name} and I am {age} years old\"\"\"\n",
        "\n",
        "class Person:\n",
        "\n",
        "  def __init__(self,name,age):\n",
        "    self.name=name\n",
        "    self.age=age\n",
        "\n",
        "  def greet(self):\n",
        "    print(f\"Hello,my name is {self.name} and I am {self.age} years old\")\n",
        "\n",
        "person1=Person(\"Ajay\",23)\n",
        "person1.greet()\n"
      ],
      "metadata": {
        "colab": {
          "base_uri": "https://localhost:8080/"
        },
        "id": "bcz8lYj351RA",
        "outputId": "97251830-b7f9-496e-c978-5cde97c5a537"
      },
      "execution_count": null,
      "outputs": [
        {
          "output_type": "stream",
          "name": "stdout",
          "text": [
            "Hello,my name is Ajay and I am 23 years old\n"
          ]
        }
      ]
    },
    {
      "cell_type": "code",
      "source": [
        "\"\"\"12. Implement a class Student with attributes name and grades. Create a method average_grade() to compute the average of grades.\"\"\"\n",
        "\n",
        "class Student:\n",
        "\n",
        "  def __init__(self,name,grades):\n",
        "    self.name=name\n",
        "    self.grades=grades\n",
        "\n",
        "  def average_grade(self):\n",
        "    print(f\"Average grade is : {sum(self.grades)/len(self.grades)}\")\n",
        "\n",
        "student1= Student(\"Ram\",[23,87,45,32,45])\n",
        "student1.average_grade()"
      ],
      "metadata": {
        "colab": {
          "base_uri": "https://localhost:8080/"
        },
        "id": "ApN5Svs_65Oh",
        "outputId": "f014c20d-6d3c-4a0b-bbbc-3dd1ef8819d4"
      },
      "execution_count": null,
      "outputs": [
        {
          "output_type": "stream",
          "name": "stdout",
          "text": [
            "Average grade is : 46.4\n"
          ]
        }
      ]
    },
    {
      "cell_type": "code",
      "source": [
        "\"\"\"13. Create a class Rectangle with method set_dimension() to set the dimension and area() to calculate the area.\"\"\"\n",
        "\n",
        "class Rectangle:\n",
        "\n",
        "  def set_dimension(self,length,width):\n",
        "    self.length=length\n",
        "    self.width=width\n",
        "    print(f\"The dimensions are, length :{self.length}, width :{self.width}\")\n",
        "\n",
        "  def area(self):\n",
        "    print(f\"The area is :{self.length*self.width}\")\n",
        "\n",
        "r1=Rectangle()\n",
        "r1.set_dimension(4,8)\n",
        "r1.area()\n",
        "\n"
      ],
      "metadata": {
        "colab": {
          "base_uri": "https://localhost:8080/"
        },
        "id": "zBzGn8Zs8yll",
        "outputId": "04353806-5d42-4338-e1ba-e4eb0fb4a0d8"
      },
      "execution_count": null,
      "outputs": [
        {
          "output_type": "stream",
          "name": "stdout",
          "text": [
            "The dimensions are, length :4, width :8\n",
            "The area is :32\n"
          ]
        }
      ]
    },
    {
      "cell_type": "code",
      "source": [
        "\"\"\"14.Create a class Employee with method calculate_salary() that computes the salary based on hours worked and\n",
        "hourly rate.Create a derived class manager that adds a bons to salary\"\"\"\n",
        "\n",
        "\"\"\"class Employee:\n",
        "\n",
        "  def __init__(self,hourly_rate):\n",
        "      self.hourly_rate=hourly_rate\n",
        "\n",
        "  def calculate_salary(self,hours_worked):\n",
        "      print(f\"The salary is :{hours_worked*self.hourly_rate}\")\n",
        "\n",
        "class Manager(Employee):\n",
        "\n",
        "  def __init__(self,hourly_rate,bonus):\n",
        "    super().__init__(hourly_rate)\n",
        "    self.bonus=bonus\n",
        "\n",
        "  def calculate_salary(self,hours_worked):\n",
        "    base_salary=super().calculate_salary(12)\n",
        "\n",
        "    print(\"The salary after bonus is\",base_salary+self.bonus)\n",
        "\n",
        "s1=Employee(500)\n",
        "s1.calculate_salary(10)\n",
        "\n",
        "m1=Manager(500,1000)\n",
        "m1.calculate_salary(12)\"\"\"\n",
        "\n",
        "class Employee:\n",
        "    def __init__(self, name, hourly_rate):\n",
        "        self.name = name\n",
        "        self.hourly_rate = hourly_rate\n",
        " calculates the total price of the product\n",
        "    def calculate_salary(self, hours_worked):\n",
        "        return hours_worked * self.hourly_rate\n",
        "\n",
        "class Manager(Employee):\n",
        "    def __init__(self, name, hourly_rate, bonus):\n",
        "        super().__init__(name, hourly_rate)\n",
        "        self.bonus = bonus\n",
        "\n",
        "    def calculate_salary(self, hours_worked):\n",
        "        base_salary = super().calculate_salary(hours_worked)\n",
        "        return base_salary + self.bonus\n",
        "\n",
        "e1=Employee(\"Ram\",500)\n",
        "print(\"Salary is:\",e1.calculate_salary(10))\n",
        "\n",
        "m1=Manager(\"Ram\",500,1000)\n",
        "print(\"Salary after bonus is :\",m1.calculate_salary(10))\n"
      ],
      "metadata": {
        "colab": {
          "base_uri": "https://localhost:8080/"
        },
        "id": "P3eSVbgb-Ish",
        "outputId": "b03a9c37-1b15-4ac7-b818-5f74d7af6000"
      },
      "execution_count": 42,
      "outputs": [
        {
          "output_type": "stream",
          "name": "stdout",
          "text": [
            "Salary is: 5000\n",
            "Salary after bonus is : 6000\n"
          ]
        }
      ]
    },
    {
      "cell_type": "code",
      "source": [
        "\"\"\"15. Create a class Product with attributes name,price and quantity.\n",
        "Implement a method total_price() that calculates the total price of the product\"\"\"\n",
        "\n",
        "class Product:\n",
        "  def __init__(self,name,price,quantity):\n",
        "    self.name=name\n",
        "    self.price=price\n",
        "    self.quantity=quantity\n",
        "\n",
        "  def total_price(self):\n",
        "    return self.price*self.quantity\n",
        "\n",
        "p1=Product(\"Biscuit\",10,15)\n",
        "print(\"Product is\",p1.name)\n",
        "print(\"Product price is\",p1.price)\n",
        "print(\"Product quantity is\",p1.quantity)\n",
        "print(\"Total price of product is,\",p1.total_price())"
      ],
      "metadata": {
        "colab": {
          "base_uri": "https://localhost:8080/"
        },
        "id": "so-Meu5a76R2",
        "outputId": "a7ad0629-6533-4ede-aac3-0d45eeef8acb"
      },
      "execution_count": 63,
      "outputs": [
        {
          "output_type": "stream",
          "name": "stdout",
          "text": [
            "Product is Biscuit\n",
            "Product price is 10\n",
            "Product quantity is 15\n",
            "Total price of product is, 150\n"
          ]
        }
      ]
    },
    {
      "cell_type": "code",
      "source": [
        "\"\"\"16. Create a class Animal with a abstract method sound().Create 2 derived classes Cow and Sheep that implement the sound() method.\"\"\"\n",
        "\n",
        "from abc import ABC,abstractmethod\n",
        "\n",
        "class Animal(ABC):\n",
        "  @abstractmethod\n",
        "  def sound(self):\n",
        "    pass\n",
        "\n",
        "class Cow(Animal):\n",
        "  def sound(self):\n",
        "    print(\"Cow is making sound\")\n",
        "\n",
        "class Sheep(Animal):\n",
        "  def sound(self):\n",
        "    print(\"Sheep is making sound\")\n",
        "\n",
        "cow=Cow()\n",
        "cow.sound()\n",
        "\n",
        "sheep=Sheep()\n",
        "sheep.sound()"
      ],
      "metadata": {
        "colab": {
          "base_uri": "https://localhost:8080/"
        },
        "id": "5CLR6ojZ_D6B",
        "outputId": "a27f1caf-4f6b-47b0-81db-001e84774ae1"
      },
      "execution_count": 67,
      "outputs": [
        {
          "output_type": "stream",
          "name": "stdout",
          "text": [
            "Cow is making sound\n",
            "Sheep is making sound\n"
          ]
        }
      ]
    },
    {
      "cell_type": "code",
      "source": [
        "\"\"\"\"17. Create a class Book with attributes title,author and year_published.\n",
        "Add a method get_book_info that returns a formatted string with the book's details\"\"\"\n",
        "\n",
        "class Book:\n",
        "  def __init__(self,title,author,year_published):\n",
        "    self.title=title\n",
        "    self.author=author\n",
        "    self.year_published=year_published\n",
        "\n",
        "  def get_book_info(self):\n",
        "    return f\"Book details are - Title :{self.title}, Author :{self.author}, Year_published :{self.year_published}\"\n",
        "\n",
        "b1=Book(\"Python\",\"Ram\",2002)\n",
        "b1.get_book_info()"
      ],
      "metadata": {
        "colab": {
          "base_uri": "https://localhost:8080/",
          "height": 35
        },
        "id": "qi6PyPdaAOlw",
        "outputId": "7c1154b1-ed36-4e9f-e28a-a8d8459de86f"
      },
      "execution_count": 72,
      "outputs": [
        {
          "output_type": "execute_result",
          "data": {
            "text/plain": [
              "'Book details are - Title :Python, Author :Ram, Year_published :2002'"
            ],
            "application/vnd.google.colaboratory.intrinsic+json": {
              "type": "string"
            }
          },
          "metadata": {},
          "execution_count": 72
        }
      ]
    },
    {
      "cell_type": "code",
      "source": [
        "\"\"\"18. Create a class House with attributes address and price. Create a derived class Mansion that adds an attributes number_of_rooms\"\"\"\n",
        "\n",
        "class House:\n",
        "  def __init__(self,address,price):\n",
        "    self.address=address\n",
        "    self.price=price\n",
        "\n",
        "class Mansion(House):\n",
        "  def __init__(self,address,price,number_of_rooms):\n",
        "    super().__init__(address,price)\n",
        "    self.number_of_rooms=number_of_rooms\n",
        "\n",
        "  def get_house_details(self):\n",
        "    print(f\"House details are - Address :{self.address}, Price :{self.price}, Number of rooms :{self.number_of_rooms}\")\n",
        "\n",
        "m1=Mansion(\"ABC Road\",200000,4)\n",
        "m1.get_house_details()"
      ],
      "metadata": {
        "colab": {
          "base_uri": "https://localhost:8080/"
        },
        "id": "mhmj0ZwaBqqj",
        "outputId": "2cc4328f-d1b8-4729-fddc-48b2c59752ab"
      },
      "execution_count": 77,
      "outputs": [
        {
          "output_type": "stream",
          "name": "stdout",
          "text": [
            "House details are - Address :ABC Road, Price :200000, Number of rooms :4\n"
          ]
        }
      ]
    }
  ]
}